{
  "nbformat": 4,
  "nbformat_minor": 0,
  "metadata": {
    "colab": {
      "name": "convolutional-autoencoder.ipynb",
      "provenance": []
    },
    "kernelspec": {
      "name": "python3",
      "display_name": "Python 3"
    },
    "language_info": {
      "name": "python"
    },
    "accelerator": "GPU"
  },
  "cells": [
    {
      "cell_type": "code",
      "metadata": {
        "id": "oUVh8PeOmNJo"
      },
      "source": [
        "import numpy as np\n",
        "import matplotlib.pyplot as plt\n",
        "\n",
        "import keras\n",
        "from keras import layers, regularizers\n",
        "from keras.datasets import mnist"
      ],
      "execution_count": 20,
      "outputs": []
    },
    {
      "cell_type": "code",
      "metadata": {
        "id": "A9Q0yplcnp3t"
      },
      "source": [
        "# This is the size of our encoded representations\n",
        "encoding_dim = 32  # 32 floats -> compression of factor 24.5, assuming the input is 784 floats\n",
        "\n",
        "# This is our input image\n",
        "input_img = keras.Input(shape=(28, 28, 1))\n",
        "# \"encoded\" is the encoded representation of the input\n",
        "x = layers.Conv2D(16, (3, 3), activation='relu', padding='same')(input_img)\n",
        "x = layers.MaxPooling2D((2, 2), padding='same')(x)\n",
        "x = layers.Conv2D(8, (3, 3), activation='relu', padding='same')(x)\n",
        "x = layers.MaxPooling2D((2, 2), padding='same')(x)\n",
        "x = layers.Conv2D(8, (3, 3), activation='relu', padding='same')(x)\n",
        "encoded = layers.MaxPooling2D((2, 2), padding='same')(x)\n",
        "# \"decoded\" is the lossy reconstruction of the input\n",
        "# at this point the representation is (4, 4, 8) i.e. 128-dimensional\n",
        "x = layers.Conv2D(8, (3, 3), activation='relu', padding='same')(encoded)\n",
        "x = layers.UpSampling2D((2, 2))(x)\n",
        "x = layers.Conv2D(8, (3, 3), activation='relu', padding='same')(x)\n",
        "x = layers.UpSampling2D((2, 2))(x)\n",
        "x = layers.Conv2D(16, (3, 3), activation='relu')(x)\n",
        "x = layers.UpSampling2D((2, 2))(x)\n",
        "decoded = layers.Conv2D(1, (3, 3), activation='sigmoid', padding='same')(x)\n",
        "\n",
        "# This model maps an input to its reconstruction\n",
        "autoencoder = keras.Model(input_img, decoded)"
      ],
      "execution_count": 21,
      "outputs": []
    },
    {
      "cell_type": "code",
      "metadata": {
        "id": "PfZpKdwUoKjA"
      },
      "source": [
        "autoencoder.compile(\n",
        "  optimizer='adam', \n",
        "  loss='binary_crossentropy'\n",
        ")"
      ],
      "execution_count": 22,
      "outputs": []
    },
    {
      "cell_type": "code",
      "metadata": {
        "id": "XeQNP6_UoAt0"
      },
      "source": [
        "(X_train, _), (X_test, _) = mnist.load_data()"
      ],
      "execution_count": 23,
      "outputs": []
    },
    {
      "cell_type": "code",
      "metadata": {
        "colab": {
          "base_uri": "https://localhost:8080/"
        },
        "id": "xEwAHniVoCjf",
        "outputId": "8d029f25-f994-4f8f-d817-df98e8800f5c"
      },
      "source": [
        "X_train = X_train.astype('float32') / 255.\n",
        "X_test = X_test.astype('float32') / 255.\n",
        "X_train = np.reshape(X_train, (len(X_train), 28, 28, 1))\n",
        "X_test = np.reshape(X_test, (len(X_test), 28, 28, 1))\n",
        "\n",
        "print(X_train.shape, X_test.shape)"
      ],
      "execution_count": 24,
      "outputs": [
        {
          "output_type": "stream",
          "text": [
            "(60000, 28, 28, 1) (10000, 28, 28, 1)\n"
          ],
          "name": "stdout"
        }
      ]
    },
    {
      "cell_type": "code",
      "metadata": {
        "colab": {
          "base_uri": "https://localhost:8080/"
        },
        "id": "y_qt53NdoEB_",
        "outputId": "09ecb67a-5d87-4193-be1c-647bec3f16c1"
      },
      "source": [
        "history = autoencoder.fit(\n",
        "  X_train, X_train,\n",
        "  epochs=50,\n",
        "  batch_size=256,\n",
        "  shuffle=True,\n",
        "  validation_data=(X_test, X_test)\n",
        ")"
      ],
      "execution_count": 25,
      "outputs": [
        {
          "output_type": "stream",
          "text": [
            "Epoch 1/50\n",
            "235/235 [==============================] - 3s 10ms/step - loss: 0.3839 - val_loss: 0.1679\n",
            "Epoch 2/50\n",
            "235/235 [==============================] - 2s 8ms/step - loss: 0.1603 - val_loss: 0.1415\n",
            "Epoch 3/50\n",
            "235/235 [==============================] - 2s 8ms/step - loss: 0.1390 - val_loss: 0.1298\n",
            "Epoch 4/50\n",
            "235/235 [==============================] - 2s 8ms/step - loss: 0.1293 - val_loss: 0.1244\n",
            "Epoch 5/50\n",
            "235/235 [==============================] - 2s 8ms/step - loss: 0.1241 - val_loss: 0.1199\n",
            "Epoch 6/50\n",
            "235/235 [==============================] - 2s 8ms/step - loss: 0.1204 - val_loss: 0.1171\n",
            "Epoch 7/50\n",
            "235/235 [==============================] - 2s 8ms/step - loss: 0.1174 - val_loss: 0.1148\n",
            "Epoch 8/50\n",
            "235/235 [==============================] - 2s 8ms/step - loss: 0.1154 - val_loss: 0.1126\n",
            "Epoch 9/50\n",
            "235/235 [==============================] - 2s 8ms/step - loss: 0.1133 - val_loss: 0.1111\n",
            "Epoch 10/50\n",
            "235/235 [==============================] - 2s 8ms/step - loss: 0.1116 - val_loss: 0.1095\n",
            "Epoch 11/50\n",
            "235/235 [==============================] - 2s 8ms/step - loss: 0.1104 - val_loss: 0.1081\n",
            "Epoch 12/50\n",
            "235/235 [==============================] - 2s 8ms/step - loss: 0.1088 - val_loss: 0.1069\n",
            "Epoch 13/50\n",
            "235/235 [==============================] - 2s 8ms/step - loss: 0.1078 - val_loss: 0.1061\n",
            "Epoch 14/50\n",
            "235/235 [==============================] - 2s 8ms/step - loss: 0.1067 - val_loss: 0.1048\n",
            "Epoch 15/50\n",
            "235/235 [==============================] - 2s 8ms/step - loss: 0.1055 - val_loss: 0.1039\n",
            "Epoch 16/50\n",
            "235/235 [==============================] - 2s 8ms/step - loss: 0.1046 - val_loss: 0.1044\n",
            "Epoch 17/50\n",
            "235/235 [==============================] - 2s 8ms/step - loss: 0.1040 - val_loss: 0.1024\n",
            "Epoch 18/50\n",
            "235/235 [==============================] - 2s 8ms/step - loss: 0.1031 - val_loss: 0.1017\n",
            "Epoch 19/50\n",
            "235/235 [==============================] - 2s 8ms/step - loss: 0.1026 - val_loss: 0.1009\n",
            "Epoch 20/50\n",
            "235/235 [==============================] - 2s 8ms/step - loss: 0.1016 - val_loss: 0.1006\n",
            "Epoch 21/50\n",
            "235/235 [==============================] - 2s 8ms/step - loss: 0.1013 - val_loss: 0.1001\n",
            "Epoch 22/50\n",
            "235/235 [==============================] - 2s 8ms/step - loss: 0.1008 - val_loss: 0.0999\n",
            "Epoch 23/50\n",
            "235/235 [==============================] - 2s 8ms/step - loss: 0.1002 - val_loss: 0.0989\n",
            "Epoch 24/50\n",
            "235/235 [==============================] - 2s 8ms/step - loss: 0.1000 - val_loss: 0.0985\n",
            "Epoch 25/50\n",
            "235/235 [==============================] - 2s 8ms/step - loss: 0.0995 - val_loss: 0.0980\n",
            "Epoch 26/50\n",
            "235/235 [==============================] - 2s 8ms/step - loss: 0.0990 - val_loss: 0.0982\n",
            "Epoch 27/50\n",
            "235/235 [==============================] - 2s 8ms/step - loss: 0.0985 - val_loss: 0.0976\n",
            "Epoch 28/50\n",
            "235/235 [==============================] - 2s 8ms/step - loss: 0.0985 - val_loss: 0.0971\n",
            "Epoch 29/50\n",
            "235/235 [==============================] - 2s 8ms/step - loss: 0.0982 - val_loss: 0.0970\n",
            "Epoch 30/50\n",
            "235/235 [==============================] - 2s 8ms/step - loss: 0.0978 - val_loss: 0.0964\n",
            "Epoch 31/50\n",
            "235/235 [==============================] - 2s 8ms/step - loss: 0.0972 - val_loss: 0.0963\n",
            "Epoch 32/50\n",
            "235/235 [==============================] - 2s 8ms/step - loss: 0.0970 - val_loss: 0.0958\n",
            "Epoch 33/50\n",
            "235/235 [==============================] - 2s 8ms/step - loss: 0.0966 - val_loss: 0.0954\n",
            "Epoch 34/50\n",
            "235/235 [==============================] - 2s 8ms/step - loss: 0.0963 - val_loss: 0.0954\n",
            "Epoch 35/50\n",
            "235/235 [==============================] - 2s 8ms/step - loss: 0.0965 - val_loss: 0.0951\n",
            "Epoch 36/50\n",
            "235/235 [==============================] - 2s 8ms/step - loss: 0.0960 - val_loss: 0.0948\n",
            "Epoch 37/50\n",
            "235/235 [==============================] - 2s 8ms/step - loss: 0.0959 - val_loss: 0.0950\n",
            "Epoch 38/50\n",
            "235/235 [==============================] - 2s 8ms/step - loss: 0.0957 - val_loss: 0.0945\n",
            "Epoch 39/50\n",
            "235/235 [==============================] - 2s 8ms/step - loss: 0.0954 - val_loss: 0.0945\n",
            "Epoch 40/50\n",
            "235/235 [==============================] - 2s 8ms/step - loss: 0.0955 - val_loss: 0.0941\n",
            "Epoch 41/50\n",
            "235/235 [==============================] - 2s 8ms/step - loss: 0.0949 - val_loss: 0.0939\n",
            "Epoch 42/50\n",
            "235/235 [==============================] - 2s 8ms/step - loss: 0.0949 - val_loss: 0.0939\n",
            "Epoch 43/50\n",
            "235/235 [==============================] - 2s 8ms/step - loss: 0.0947 - val_loss: 0.0936\n",
            "Epoch 44/50\n",
            "235/235 [==============================] - 2s 8ms/step - loss: 0.0947 - val_loss: 0.0934\n",
            "Epoch 45/50\n",
            "235/235 [==============================] - 2s 8ms/step - loss: 0.0942 - val_loss: 0.0934\n",
            "Epoch 46/50\n",
            "235/235 [==============================] - 2s 8ms/step - loss: 0.0944 - val_loss: 0.0932\n",
            "Epoch 47/50\n",
            "235/235 [==============================] - 2s 8ms/step - loss: 0.0942 - val_loss: 0.0932\n",
            "Epoch 48/50\n",
            "235/235 [==============================] - 2s 8ms/step - loss: 0.0940 - val_loss: 0.0928\n",
            "Epoch 49/50\n",
            "235/235 [==============================] - 2s 8ms/step - loss: 0.0938 - val_loss: 0.0933\n",
            "Epoch 50/50\n",
            "235/235 [==============================] - 2s 8ms/step - loss: 0.0936 - val_loss: 0.0925\n"
          ],
          "name": "stdout"
        }
      ]
    },
    {
      "cell_type": "code",
      "metadata": {
        "colab": {
          "base_uri": "https://localhost:8080/"
        },
        "id": "op2Ks_hSoHGd",
        "outputId": "3f3fb686-7b60-4db5-a6a8-1231e02d8968"
      },
      "source": [
        "autoencoder.summary()"
      ],
      "execution_count": 26,
      "outputs": [
        {
          "output_type": "stream",
          "text": [
            "Model: \"model_2\"\n",
            "_________________________________________________________________\n",
            "Layer (type)                 Output Shape              Param #   \n",
            "=================================================================\n",
            "input_3 (InputLayer)         [(None, 28, 28, 1)]       0         \n",
            "_________________________________________________________________\n",
            "conv2d_14 (Conv2D)           (None, 28, 28, 16)        160       \n",
            "_________________________________________________________________\n",
            "max_pooling2d_6 (MaxPooling2 (None, 14, 14, 16)        0         \n",
            "_________________________________________________________________\n",
            "conv2d_15 (Conv2D)           (None, 14, 14, 8)         1160      \n",
            "_________________________________________________________________\n",
            "max_pooling2d_7 (MaxPooling2 (None, 7, 7, 8)           0         \n",
            "_________________________________________________________________\n",
            "conv2d_16 (Conv2D)           (None, 7, 7, 8)           584       \n",
            "_________________________________________________________________\n",
            "max_pooling2d_8 (MaxPooling2 (None, 4, 4, 8)           0         \n",
            "_________________________________________________________________\n",
            "conv2d_17 (Conv2D)           (None, 4, 4, 8)           584       \n",
            "_________________________________________________________________\n",
            "up_sampling2d_6 (UpSampling2 (None, 8, 8, 8)           0         \n",
            "_________________________________________________________________\n",
            "conv2d_18 (Conv2D)           (None, 8, 8, 8)           584       \n",
            "_________________________________________________________________\n",
            "up_sampling2d_7 (UpSampling2 (None, 16, 16, 8)         0         \n",
            "_________________________________________________________________\n",
            "conv2d_19 (Conv2D)           (None, 14, 14, 16)        1168      \n",
            "_________________________________________________________________\n",
            "up_sampling2d_8 (UpSampling2 (None, 28, 28, 16)        0         \n",
            "_________________________________________________________________\n",
            "conv2d_20 (Conv2D)           (None, 28, 28, 1)         145       \n",
            "=================================================================\n",
            "Total params: 4,385\n",
            "Trainable params: 4,385\n",
            "Non-trainable params: 0\n",
            "_________________________________________________________________\n"
          ],
          "name": "stdout"
        }
      ]
    },
    {
      "cell_type": "code",
      "metadata": {
        "colab": {
          "base_uri": "https://localhost:8080/",
          "height": 265
        },
        "id": "up6VH7K9oN74",
        "outputId": "7bbbff01-e6b9-4981-be08-703824219bf2"
      },
      "source": [
        "plt.plot(history.history[\"loss\"], label=\"training loss\")\n",
        "plt.plot(history.history[\"val_loss\"], label=\"testing loss\")\n",
        "plt.legend();"
      ],
      "execution_count": 27,
      "outputs": [
        {
          "output_type": "display_data",
          "data": {
            "image/png": "[encoded data removed]",
            "text/plain": [
              "<Figure size 432x288 with 1 Axes>"
            ]
          },
          "metadata": {
            "tags": [],
            "needs_background": "light"
          }
        }
      ]
    },
    {
      "cell_type": "code",
      "metadata": {
        "id": "N_8HQHVeoA4E"
      },
      "source": [
        "# Decode some digits\n",
        "# Note that we take them from the *test* set\n",
        "decoded_imgs = autoencoder.predict(X_test)"
      ],
      "execution_count": 28,
      "outputs": []
    },
    {
      "cell_type": "code",
      "metadata": {
        "colab": {
          "base_uri": "https://localhost:8080/",
          "height": 191
        },
        "id": "DJ1wc1gfoDAq",
        "outputId": "4e2767f7-243e-45b0-ad80-211797067825"
      },
      "source": [
        "n = 10  # How many digits we will display\n",
        "plt.figure(figsize=(20, 4))\n",
        "for i in range(n):\n",
        "    # Display original\n",
        "    ax = plt.subplot(2, n, i + 1)\n",
        "    plt.imshow(X_test[i].reshape(28, 28))\n",
        "    plt.gray()\n",
        "    ax.get_xaxis().set_visible(False)\n",
        "    ax.get_yaxis().set_visible(False)\n",
        "\n",
        "    # Display reconstruction\n",
        "    ax = plt.subplot(2, n, i + 1 + n)\n",
        "    plt.imshow(decoded_imgs[i].reshape(28, 28))\n",
        "    plt.gray()\n",
        "    ax.get_xaxis().set_visible(False)\n",
        "    ax.get_yaxis().set_visible(False)\n",
        "plt.show()"
      ],
      "execution_count": 29,
      "outputs": [
        {
          "output_type": "display_data",
          "data": {
            "image/png": "[encoded data removed]",
            "text/plain": [
              "<Figure size 1440x288 with 20 Axes>"
            ]
          },
          "metadata": {
            "tags": [],
            "needs_background": "light"
          }
        }
      ]
    },
    {
      "cell_type": "code",
      "metadata": {
        "id": "eL0ZdJcioRjE"
      },
      "source": [
        "autoencoder.save(\"model.h5\")"
      ],
      "execution_count": 31,
      "outputs": []
    },
    {
      "cell_type": "code",
      "metadata": {
        "id": "7JuLKzBSpwkp"
      },
      "source": [
        ""
      ],
      "execution_count": 30,
      "outputs": []
    }
  ]
}